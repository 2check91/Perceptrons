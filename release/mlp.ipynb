{
 "cells": [
  {
   "cell_type": "markdown",
   "metadata": {
    "deletable": false,
    "editable": false,
    "nbgrader": {
     "checksum": "2bec14f7a4587b8c3839ad05aa5efb5c",
     "grade": false,
     "grade_id": "autograder_description",
     "locked": true,
     "schema_version": 1,
     "solution": false
    }
   },
   "source": [
    "# Autograder Variables\n",
    "\n",
    "The following code cell defines autograder-specific variables. Execute it and move on.\n",
    "\n",
    "- INDUS proportion of non-retail business acres per town\n",
    "- AGE proportion of owner-occupied units built prior to 1940"
   ]
  },
  {
   "cell_type": "code",
   "execution_count": null,
   "metadata": {
    "collapsed": true,
    "deletable": false,
    "editable": false,
    "nbgrader": {
     "checksum": "c2282ee45182974e7776ad1712a396cc",
     "grade": false,
     "grade_id": "autograder_code",
     "locked": true,
     "schema_version": 1,
     "solution": false
    },
    "scrolled": false
   },
   "outputs": [],
   "source": [
    "import numpy as np\n",
    "from keras.datasets import boston_housing\n",
    "import numpy as np\n",
    "np.random.seed(42)\n",
    "import pandas as pd\n",
    "from pandas.plotting import scatter_matrix\n",
    "%matplotlib inline\n",
    "\n",
    "def passed(): print('✅')\n",
    "\n",
    "NB_TRAIN = 400\n",
    "[X, y], _ = boston_housing.load_data()\n",
    "X = (X - X.mean(axis=0)) / X.std(axis=0)\n",
    "y = (y - y.mean()) / y.std()\n",
    "\n",
    "X, y = X[:NB_TRAIN], y[:NB_TRAIN]\n",
    "sorted_idxs = np.argsort(y)\n",
    "X, y = X[sorted_idxs], y[sorted_idxs]\n",
    "y = np.hstack([np.full(shape=100, fill_value=i) for i in range(4)])\n",
    "idxs = np.arange(NB_TRAIN)\n",
    "np.random.shuffle(idxs)\n",
    "X, y = X[idxs], y[idxs]\n",
    "\n",
    "X = X[:, [2, 6]]\n",
    "\n",
    "NB_SAMPLE, NB_FEATURE = X.shape\n",
    "classes = np.unique(y)\n",
    "NB_CLASS = len(classes)\n",
    "df = pd.DataFrame(X, columns=['INDUS', 'AGE'])\n",
    "df['COST'] = y\n",
    "scatter_matrix(df, diagonal='kde');\n",
    "df[''] = ''\n",
    "df[['INDUS', 'AGE', '', 'COST']]"
   ]
  },
  {
   "cell_type": "markdown",
   "metadata": {
    "deletable": false,
    "editable": false,
    "nbgrader": {
     "checksum": "43e45694abc553cd37f5c99538e85a6c",
     "grade": false,
     "grade_id": "mlp_description",
     "locked": true,
     "schema_version": 1,
     "solution": false
    }
   },
   "source": [
    "# Task\n",
    "\n",
    "- Define a class `MultiLayerPerceptron` which passes the Multi-Layer Perceptron tests"
   ]
  },
  {
   "cell_type": "code",
   "execution_count": null,
   "metadata": {
    "collapsed": true,
    "deletable": false,
    "nbgrader": {
     "checksum": "c21ec5e306a4fb8927058eb135e44030",
     "grade": false,
     "grade_id": "mlp_solution",
     "locked": false,
     "schema_version": 1,
     "solution": true
    }
   },
   "outputs": [],
   "source": [
    "# YOUR CODE HERE\n",
    "raise NotImplementedError()"
   ]
  },
  {
   "cell_type": "markdown",
   "metadata": {
    "deletable": false,
    "editable": false,
    "nbgrader": {
     "checksum": "10ffcfb7827eaa3b97abe2ec0de0a71b",
     "grade": false,
     "grade_id": "constructor_blurb",
     "locked": true,
     "schema_version": 1,
     "solution": false
    }
   },
   "source": [
    "# Constructor Tests"
   ]
  },
  {
   "cell_type": "code",
   "execution_count": null,
   "metadata": {
    "collapsed": true,
    "deletable": false,
    "editable": false,
    "nbgrader": {
     "checksum": "e4e1647cd99d2b052fe8fc4bb8cff74d",
     "grade": true,
     "grade_id": "constructor_tests",
     "locked": true,
     "points": 1,
     "schema_version": 1,
     "solution": false
    }
   },
   "outputs": [],
   "source": [
    "from classifiers import MultiLayerPerceptron\n",
    "\n",
    "NB_HIDDEN = 16\n",
    "mlp = MultiLayerPerceptron(NB_FEATURE, NB_HIDDEN, NB_CLASS)\n",
    "\n",
    "assert type(mlp.W1) == np.ndarray\n",
    "assert mlp.W1.shape == (NB_FEATURE, NB_HIDDEN)\n",
    "assert mlp.W1.dtype == np.float64\n",
    "assert type(mlp.b1) == np.ndarray\n",
    "assert mlp.b1.shape == (NB_HIDDEN,)\n",
    "assert mlp.b1.dtype == np.float64\n",
    "assert type(mlp.W2) == np.ndarray\n",
    "assert mlp.W2.shape == (NB_HIDDEN, NB_CLASS)\n",
    "assert mlp.W2.dtype == np.float64\n",
    "assert mlp.b2.shape == (NB_CLASS,)\n",
    "\n",
    "passed()"
   ]
  },
  {
   "cell_type": "markdown",
   "metadata": {
    "deletable": false,
    "editable": false,
    "nbgrader": {
     "checksum": "babd2512baa9627302e1f422220eea7c",
     "grade": false,
     "grade_id": "predict_blurb",
     "locked": true,
     "schema_version": 1,
     "solution": false
    }
   },
   "source": [
    "# Prediction Test"
   ]
  },
  {
   "cell_type": "code",
   "execution_count": null,
   "metadata": {
    "collapsed": true,
    "deletable": false,
    "editable": false,
    "nbgrader": {
     "checksum": "eefdd38760a7d9894a094ec38eed5cdd",
     "grade": true,
     "grade_id": "predict_tests",
     "locked": true,
     "points": 1,
     "schema_version": 1,
     "solution": false
    }
   },
   "outputs": [],
   "source": [
    "y_pred = mlp.predict(X)\n",
    "assert y_pred.shape == (NB_SAMPLE, NB_CLASS)\n",
    "\n",
    "passed()"
   ]
  },
  {
   "cell_type": "markdown",
   "metadata": {
    "deletable": false,
    "editable": false,
    "nbgrader": {
     "checksum": "82ce71c1bdde881f47489fea5e5edb16",
     "grade": false,
     "grade_id": "evaluation_blurb",
     "locked": true,
     "schema_version": 1,
     "solution": false
    }
   },
   "source": [
    "# Evaluation Test"
   ]
  },
  {
   "cell_type": "code",
   "execution_count": null,
   "metadata": {
    "collapsed": true,
    "deletable": false,
    "editable": false,
    "nbgrader": {
     "checksum": "f5927284fbed760b7f9ccb5a4f4dc9c5",
     "grade": true,
     "grade_id": "evaluation_tests",
     "locked": true,
     "points": 1,
     "schema_version": 1,
     "solution": false
    }
   },
   "outputs": [],
   "source": [
    "acc = mlp.evaluate(X, y)\n",
    "assert type(acc) == np.float64\n",
    "assert 0 <= acc <= 1\n",
    "\n",
    "P = mlp.predict(X)\n",
    "y_pred = P.argmax(axis=1)\n",
    "assert acc == np.mean(y_pred == y)\n",
    "\n",
    "passed()"
   ]
  },
  {
   "cell_type": "markdown",
   "metadata": {
    "deletable": false,
    "nbgrader": {
     "checksum": "49d5cb94fca0de5f76fb6ba4f9b91c28",
     "grade": true,
     "grade_id": "random_description",
     "locked": false,
     "points": 1,
     "schema_version": 1,
     "solution": true
    }
   },
   "source": [
    "YOUR ANSWER HERE"
   ]
  },
  {
   "cell_type": "code",
   "execution_count": null,
   "metadata": {
    "collapsed": true,
    "deletable": false,
    "nbgrader": {
     "checksum": "c0c28a753181a3b9f75b43059b2a6282",
     "grade": false,
     "grade_id": "random_solution",
     "locked": false,
     "schema_version": 1,
     "solution": true
    }
   },
   "outputs": [],
   "source": [
    "# YOUR CODE HERE\n",
    "raise NotImplementedError()"
   ]
  },
  {
   "cell_type": "markdown",
   "metadata": {
    "deletable": false,
    "editable": false,
    "nbgrader": {
     "checksum": "984f0e12c1d22bbea376069862fc316d",
     "grade": false,
     "grade_id": "random_blurb",
     "locked": true,
     "schema_version": 1,
     "solution": false
    }
   },
   "source": [
    "# Random Optimizer Test "
   ]
  },
  {
   "cell_type": "code",
   "execution_count": null,
   "metadata": {
    "collapsed": true,
    "deletable": false,
    "editable": false,
    "nbgrader": {
     "checksum": "074cc76758aedca393381d22927229b5",
     "grade": true,
     "grade_id": "random_tests",
     "locked": true,
     "points": 1,
     "schema_version": 1,
     "solution": false
    },
    "scrolled": false
   },
   "outputs": [],
   "source": [
    "from classifiers import MultiLayerPerceptronWithRandomOptimizer\n",
    "\n",
    "mlp = MultiLayerPerceptronWithRandomOptimizer(NB_FEATURE, NB_HIDDEN, NB_CLASS)\n",
    "\n",
    "acc = mlp.evaluate(X, y)\n",
    "for _ in range(1000):\n",
    "    loss = mlp._forward(X, y)\n",
    "    mlp.fit(X, y, nb_epoch=10)\n",
    "    assert mlp._forward(X, y) <= loss\n",
    "    \n",
    "assert mlp.evaluate(X, y) > acc\n",
    "\n",
    "passed()"
   ]
  },
  {
   "cell_type": "markdown",
   "metadata": {
    "deletable": false,
    "editable": false,
    "nbgrader": {
     "checksum": "0fb1aa5c341afed71ba506cb5ef2d3e9",
     "grade": false,
     "grade_id": "gd_description",
     "locked": true,
     "schema_version": 1,
     "solution": false
    }
   },
   "source": [
    "# Task\n",
    "\n",
    "- Define a class `MultiLayerPerceptronWithGradientDescentOptimizer` which extends your `classifiers.MultiLayerPerceptron` model with a gradient descent optimizer\n",
    "\n",
    "# Hint\n",
    "\n",
    "- Compute the gradient numerically with finite differences"
   ]
  },
  {
   "cell_type": "code",
   "execution_count": null,
   "metadata": {
    "collapsed": true,
    "deletable": false,
    "nbgrader": {
     "checksum": "fb745fc5063d48e3b2673c6ea249008b",
     "grade": false,
     "grade_id": "gd_solution",
     "locked": false,
     "schema_version": 1,
     "solution": true
    }
   },
   "outputs": [],
   "source": [
    "# YOUR CODE HERE\n",
    "raise NotImplementedError()"
   ]
  },
  {
   "cell_type": "markdown",
   "metadata": {
    "deletable": false,
    "editable": false,
    "nbgrader": {
     "checksum": "dc4a558241a57b994bfb9e750f76125e",
     "grade": false,
     "grade_id": "gd_blurb",
     "locked": true,
     "schema_version": 1,
     "solution": false
    }
   },
   "source": [
    "# Gradient Descent Optimizer Test"
   ]
  },
  {
   "cell_type": "code",
   "execution_count": null,
   "metadata": {
    "collapsed": true,
    "deletable": false,
    "editable": false,
    "nbgrader": {
     "checksum": "980eaf0e16457c0cbd06a8bd1697aac7",
     "grade": true,
     "grade_id": "gd_tests",
     "locked": true,
     "points": 1,
     "schema_version": 1,
     "solution": false
    }
   },
   "outputs": [],
   "source": [
    "from classifiers import MultiLayerPerceptronWithGradientDescentOptimizer\n",
    "\n",
    "mlp = MultiLayerPerceptronWithGradientDescentOptimizer(NB_FEATURE, NB_HIDDEN, NB_CLASS)\n",
    "\n",
    "acc = mlp.evaluate(X, y)\n",
    "loss = mlp._forward(X, y)\n",
    "for _ in range(100):\n",
    "    mlp.fit(X, y, nb_epoch=1)\n",
    "    assert mlp._forward(X, y) < loss\n",
    "    loss = mlp._forward(X, y)\n",
    "    \n",
    "assert mlp.evaluate(X, y) > acc\n",
    "\n",
    "passed()"
   ]
  }
 ],
 "metadata": {
  "kernelspec": {
   "display_name": "Python 3",
   "language": "python",
   "name": "python3"
  },
  "language_info": {
   "codemirror_mode": {
    "name": "ipython",
    "version": 3
   },
   "file_extension": ".py",
   "mimetype": "text/x-python",
   "name": "python",
   "nbconvert_exporter": "python",
   "pygments_lexer": "ipython3",
   "version": "3.6.1"
  }
 },
 "nbformat": 4,
 "nbformat_minor": 2
}
